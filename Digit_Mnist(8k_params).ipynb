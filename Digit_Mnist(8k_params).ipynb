{
  "nbformat": 4,
  "nbformat_minor": 0,
  "metadata": {
    "colab": {
      "name": "Digit_Mnist(8k params).ipynb",
      "provenance": [],
      "authorship_tag": "ABX9TyMtrRXydgqGm7IEMvNSO+Dh",
      "include_colab_link": true
    },
    "kernelspec": {
      "name": "python3",
      "display_name": "Python 3"
    },
    "accelerator": "GPU"
  },
  "cells": [
    {
      "cell_type": "markdown",
      "metadata": {
        "id": "view-in-github",
        "colab_type": "text"
      },
      "source": [
        "<a href=\"https://colab.research.google.com/github/KaranPrajapati8750/Digit_Mnist-8k_params-/blob/main/Digit_Mnist(8k_params).ipynb\" target=\"_parent\"><img src=\"https://colab.research.google.com/assets/colab-badge.svg\" alt=\"Open In Colab\"/></a>"
      ]
    },
    {
      "cell_type": "code",
      "metadata": {
        "id": "dsY7EKJtHGtL"
      },
      "source": [
        "import os\r\n",
        "import random\r\n",
        "\r\n",
        "import numpy as np\r\n",
        "from keras.utils import np_utils\r\n",
        "\r\n",
        "import tensorflow as tf\r\n",
        "from tensorflow.keras import optimizers\r\n",
        "from tensorflow.keras.datasets import mnist\r\n",
        "from tensorflow.keras.models import Sequential\r\n",
        "from tensorflow.keras.layers import Flatten, Dense, Conv2D, MaxPooling2D\r\n",
        "from tensorflow.keras.layers import Dropout, BatchNormalization, LeakyReLU\r\n",
        "from tensorflow.keras.callbacks import Callback, EarlyStopping, ReduceLROnPlateau\r\n",
        "from tensorflow.keras.preprocessing.image import ImageDataGenerator\r\n",
        "\r\n",
        "import seaborn as sns\r\n",
        "from matplotlib import pyplot as plt"
      ],
      "execution_count": 1,
      "outputs": []
    },
    {
      "cell_type": "code",
      "metadata": {
        "id": "TLUANpkKHPpp"
      },
      "source": [
        "SEED = 42\r\n",
        "os.environ['PYTHONHASHSEED']=str(SEED)\r\n",
        "random.seed(SEED)\r\n",
        "np.random.seed(SEED)\r\n",
        "tf.random.set_seed(SEED)"
      ],
      "execution_count": 2,
      "outputs": []
    },
    {
      "cell_type": "code",
      "metadata": {
        "id": "yLG8v4U6HPg2"
      },
      "source": [
        "def preprocess_data(X, normalize=True):\r\n",
        "    X = X.astype('float32')\r\n",
        "\r\n",
        "    if normalize:\r\n",
        "        X /= 255.\r\n",
        "\r\n",
        "    return X.reshape(*X.shape, 1)"
      ],
      "execution_count": 3,
      "outputs": []
    },
    {
      "cell_type": "code",
      "metadata": {
        "id": "SmTyxBXtHdxo"
      },
      "source": [
        "(X_train, y_train), (X_valid, y_valid) = mnist.load_data()\r\n",
        "\r\n",
        "X_train = preprocess_data(X_train)\r\n",
        "X_valid = preprocess_data(X_valid)\r\n",
        "\r\n",
        "y_train = np_utils.to_categorical(y_train)\r\n",
        "y_valid = np_utils.to_categorical(y_valid)\r\n",
        "\r\n",
        "img_width = X_train.shape[1]\r\n",
        "img_height = X_train.shape[2]\r\n",
        "img_depth = X_train.shape[3]\r\n",
        "num_classes = y_train.shape[1]"
      ],
      "execution_count": 4,
      "outputs": []
    },
    {
      "cell_type": "code",
      "metadata": {
        "id": "09TnTdR-Hdu4"
      },
      "source": [
        "def cnn_8k(optim='adam', loss='categorical_crossentropy'):\r\n",
        "  \r\n",
        "    net = Sequential(name='cnn_8k')\r\n",
        "\r\n",
        "    net.add(\r\n",
        "        Conv2D(\r\n",
        "            filters=32,\r\n",
        "            kernel_size=(3,3),\r\n",
        "            input_shape=(img_width, img_height, img_depth),\r\n",
        "            name='conv2d_1'\r\n",
        "        )\r\n",
        "    )\r\n",
        "    net.add(LeakyReLU(name='leaky_relu_1'))\r\n",
        "    net.add(BatchNormalization(name='batchnorm_1'))\r\n",
        "    net.add(MaxPooling2D(pool_size=(2,2), name='max_pool_1'))\r\n",
        "\r\n",
        "    net.add(\r\n",
        "        Conv2D(\r\n",
        "            filters=14,\r\n",
        "            kernel_size=(3,3),\r\n",
        "            name='conv2d_2'\r\n",
        "        )\r\n",
        "    )\r\n",
        "    net.add(LeakyReLU(name='leaky_relu_2'))\r\n",
        "    net.add(BatchNormalization(name='batchnorm_2'))\r\n",
        "    net.add(MaxPooling2D(pool_size=(2,2), name='max_pool_2'))\r\n",
        "\r\n",
        "    net.add(Flatten(name='flatten_layer'))\r\n",
        "    net.add(Dropout(0.2, name='dropout_1'))\r\n",
        "    net.add(Dense(num_classes, activation='softmax', name='dense_out'))\r\n",
        "    \r\n",
        "    net.compile(\r\n",
        "        loss=loss,\r\n",
        "        optimizer=optim,\r\n",
        "        metrics=['accuracy']\r\n",
        "    )\r\n",
        "    \r\n",
        "    net.summary()\r\n",
        "    return net"
      ],
      "execution_count": 5,
      "outputs": []
    },
    {
      "cell_type": "code",
      "metadata": {
        "id": "lp3ZOxuHHdr1"
      },
      "source": [
        "early_stopping = EarlyStopping(\r\n",
        "    monitor='val_accuracy',\r\n",
        "    mode='max',\r\n",
        "    min_delta=0.00005,\r\n",
        "    baseline=0.98,\r\n",
        "    patience=10,\r\n",
        "    restore_best_weights=True,\r\n",
        "    verbose=1\r\n",
        ")\r\n",
        "\r\n",
        "lr_scheduler = ReduceLROnPlateau(\r\n",
        "    monitor='val_accuracy',\r\n",
        "    patience=4,\r\n",
        "    factor=0.5,\r\n",
        "    min_lr=1e-6,\r\n",
        "    verbose=1\r\n",
        ")\r\n",
        "\r\n",
        "callbacks = [\r\n",
        "    early_stopping,\r\n",
        "    lr_scheduler,\r\n",
        "]"
      ],
      "execution_count": 6,
      "outputs": []
    },
    {
      "cell_type": "code",
      "metadata": {
        "colab": {
          "base_uri": "https://localhost:8080/"
        },
        "id": "kcBbiG88IYgw",
        "outputId": "0ad353db-61c2-4c0e-c313-e0c3ad196c5c"
      },
      "source": [
        "loss = 'categorical_crossentropy'\r\n",
        "optim = optimizers.Nadam(learning_rate=0.001, beta_1=0.9, beta_2=0.999, epsilon=1e-07, name='Nadam')\r\n",
        "batch_size = 128\r\n",
        "epochs = 40\r\n",
        "\r\n",
        "model = cnn_8k(optim, loss)\r\n",
        "history = model.fit(\r\n",
        "    x=X_train,\r\n",
        "    y=y_train,\r\n",
        "    validation_data=(X_valid, y_valid),\r\n",
        "    batch_size=batch_size,\r\n",
        "    epochs=epochs,\r\n",
        "    callbacks=callbacks,\r\n",
        "    use_multiprocessing=True\r\n",
        ")"
      ],
      "execution_count": 7,
      "outputs": [
        {
          "output_type": "stream",
          "text": [
            "Model: \"cnn_8k\"\n",
            "_________________________________________________________________\n",
            "Layer (type)                 Output Shape              Param #   \n",
            "=================================================================\n",
            "conv2d_1 (Conv2D)            (None, 26, 26, 32)        320       \n",
            "_________________________________________________________________\n",
            "leaky_relu_1 (LeakyReLU)     (None, 26, 26, 32)        0         \n",
            "_________________________________________________________________\n",
            "batchnorm_1 (BatchNormalizat (None, 26, 26, 32)        128       \n",
            "_________________________________________________________________\n",
            "max_pool_1 (MaxPooling2D)    (None, 13, 13, 32)        0         \n",
            "_________________________________________________________________\n",
            "conv2d_2 (Conv2D)            (None, 11, 11, 14)        4046      \n",
            "_________________________________________________________________\n",
            "leaky_relu_2 (LeakyReLU)     (None, 11, 11, 14)        0         \n",
            "_________________________________________________________________\n",
            "batchnorm_2 (BatchNormalizat (None, 11, 11, 14)        56        \n",
            "_________________________________________________________________\n",
            "max_pool_2 (MaxPooling2D)    (None, 5, 5, 14)          0         \n",
            "_________________________________________________________________\n",
            "flatten_layer (Flatten)      (None, 350)               0         \n",
            "_________________________________________________________________\n",
            "dropout_1 (Dropout)          (None, 350)               0         \n",
            "_________________________________________________________________\n",
            "dense_out (Dense)            (None, 10)                3510      \n",
            "=================================================================\n",
            "Total params: 8,060\n",
            "Trainable params: 7,968\n",
            "Non-trainable params: 92\n",
            "_________________________________________________________________\n",
            "Epoch 1/40\n",
            "469/469 [==============================] - 6s 6ms/step - loss: 0.7962 - accuracy: 0.7579 - val_loss: 0.3826 - val_accuracy: 0.8990\n",
            "Epoch 2/40\n",
            "469/469 [==============================] - 2s 5ms/step - loss: 0.1083 - accuracy: 0.9655 - val_loss: 0.0570 - val_accuracy: 0.9831\n",
            "Epoch 3/40\n",
            "469/469 [==============================] - 2s 5ms/step - loss: 0.0790 - accuracy: 0.9753 - val_loss: 0.0521 - val_accuracy: 0.9829\n",
            "Epoch 4/40\n",
            "469/469 [==============================] - 2s 5ms/step - loss: 0.0654 - accuracy: 0.9794 - val_loss: 0.0580 - val_accuracy: 0.9812\n",
            "Epoch 5/40\n",
            "469/469 [==============================] - 2s 5ms/step - loss: 0.0605 - accuracy: 0.9808 - val_loss: 0.0416 - val_accuracy: 0.9872\n",
            "Epoch 6/40\n",
            "469/469 [==============================] - 2s 5ms/step - loss: 0.0521 - accuracy: 0.9834 - val_loss: 0.0384 - val_accuracy: 0.9872\n",
            "Epoch 7/40\n",
            "469/469 [==============================] - 2s 5ms/step - loss: 0.0467 - accuracy: 0.9854 - val_loss: 0.0363 - val_accuracy: 0.9875\n",
            "Epoch 8/40\n",
            "469/469 [==============================] - 2s 5ms/step - loss: 0.0414 - accuracy: 0.9865 - val_loss: 0.0359 - val_accuracy: 0.9879\n",
            "Epoch 9/40\n",
            "469/469 [==============================] - 2s 5ms/step - loss: 0.0409 - accuracy: 0.9869 - val_loss: 0.0405 - val_accuracy: 0.9865\n",
            "Epoch 10/40\n",
            "469/469 [==============================] - 2s 5ms/step - loss: 0.0372 - accuracy: 0.9876 - val_loss: 0.0335 - val_accuracy: 0.9886\n",
            "Epoch 11/40\n",
            "469/469 [==============================] - 2s 5ms/step - loss: 0.0367 - accuracy: 0.9887 - val_loss: 0.0339 - val_accuracy: 0.9887\n",
            "Epoch 12/40\n",
            "469/469 [==============================] - 2s 5ms/step - loss: 0.0334 - accuracy: 0.9893 - val_loss: 0.0317 - val_accuracy: 0.9894\n",
            "Epoch 13/40\n",
            "469/469 [==============================] - 2s 5ms/step - loss: 0.0351 - accuracy: 0.9887 - val_loss: 0.0465 - val_accuracy: 0.9860\n",
            "Epoch 14/40\n",
            "469/469 [==============================] - 2s 5ms/step - loss: 0.0323 - accuracy: 0.9899 - val_loss: 0.0329 - val_accuracy: 0.9896\n",
            "Epoch 15/40\n",
            "469/469 [==============================] - 2s 5ms/step - loss: 0.0306 - accuracy: 0.9900 - val_loss: 0.0330 - val_accuracy: 0.9888\n",
            "Epoch 16/40\n",
            "469/469 [==============================] - 2s 5ms/step - loss: 0.0302 - accuracy: 0.9907 - val_loss: 0.0364 - val_accuracy: 0.9885\n",
            "Epoch 17/40\n",
            "469/469 [==============================] - 2s 5ms/step - loss: 0.0313 - accuracy: 0.9893 - val_loss: 0.0304 - val_accuracy: 0.9895\n",
            "Epoch 18/40\n",
            "469/469 [==============================] - 2s 5ms/step - loss: 0.0306 - accuracy: 0.9901 - val_loss: 0.0286 - val_accuracy: 0.9904\n",
            "Epoch 19/40\n",
            "469/469 [==============================] - 2s 5ms/step - loss: 0.0299 - accuracy: 0.9911 - val_loss: 0.0489 - val_accuracy: 0.9845\n",
            "Epoch 20/40\n",
            "469/469 [==============================] - 2s 5ms/step - loss: 0.0286 - accuracy: 0.9904 - val_loss: 0.0319 - val_accuracy: 0.9896\n",
            "Epoch 21/40\n",
            "469/469 [==============================] - 2s 5ms/step - loss: 0.0272 - accuracy: 0.9906 - val_loss: 0.0300 - val_accuracy: 0.9904\n",
            "Epoch 22/40\n",
            "469/469 [==============================] - 2s 5ms/step - loss: 0.0253 - accuracy: 0.9920 - val_loss: 0.0309 - val_accuracy: 0.9891\n",
            "\n",
            "Epoch 00022: ReduceLROnPlateau reducing learning rate to 0.0005000000237487257.\n",
            "Epoch 23/40\n",
            "469/469 [==============================] - 2s 5ms/step - loss: 0.0230 - accuracy: 0.9926 - val_loss: 0.0265 - val_accuracy: 0.9912\n",
            "Epoch 24/40\n",
            "469/469 [==============================] - 2s 5ms/step - loss: 0.0206 - accuracy: 0.9933 - val_loss: 0.0270 - val_accuracy: 0.9913\n",
            "Epoch 25/40\n",
            "469/469 [==============================] - 2s 5ms/step - loss: 0.0215 - accuracy: 0.9930 - val_loss: 0.0280 - val_accuracy: 0.9905\n",
            "Epoch 26/40\n",
            "469/469 [==============================] - 2s 5ms/step - loss: 0.0206 - accuracy: 0.9933 - val_loss: 0.0277 - val_accuracy: 0.9910\n",
            "Epoch 27/40\n",
            "469/469 [==============================] - 2s 5ms/step - loss: 0.0211 - accuracy: 0.9931 - val_loss: 0.0302 - val_accuracy: 0.9907\n",
            "Epoch 28/40\n",
            "469/469 [==============================] - 2s 5ms/step - loss: 0.0222 - accuracy: 0.9924 - val_loss: 0.0284 - val_accuracy: 0.9908\n",
            "\n",
            "Epoch 00028: ReduceLROnPlateau reducing learning rate to 0.0002500000118743628.\n",
            "Epoch 29/40\n",
            "469/469 [==============================] - 2s 5ms/step - loss: 0.0173 - accuracy: 0.9944 - val_loss: 0.0261 - val_accuracy: 0.9919\n",
            "Epoch 30/40\n",
            "469/469 [==============================] - 2s 5ms/step - loss: 0.0200 - accuracy: 0.9936 - val_loss: 0.0269 - val_accuracy: 0.9913\n",
            "Epoch 31/40\n",
            "469/469 [==============================] - 2s 5ms/step - loss: 0.0183 - accuracy: 0.9943 - val_loss: 0.0284 - val_accuracy: 0.9913\n",
            "Epoch 32/40\n",
            "469/469 [==============================] - 2s 5ms/step - loss: 0.0174 - accuracy: 0.9942 - val_loss: 0.0286 - val_accuracy: 0.9913\n",
            "Epoch 33/40\n",
            "469/469 [==============================] - 2s 5ms/step - loss: 0.0173 - accuracy: 0.9939 - val_loss: 0.0263 - val_accuracy: 0.9920\n",
            "\n",
            "Epoch 00033: ReduceLROnPlateau reducing learning rate to 0.0001250000059371814.\n",
            "Epoch 34/40\n",
            "469/469 [==============================] - 2s 5ms/step - loss: 0.0175 - accuracy: 0.9945 - val_loss: 0.0270 - val_accuracy: 0.9919\n",
            "Epoch 35/40\n",
            "469/469 [==============================] - 2s 5ms/step - loss: 0.0168 - accuracy: 0.9943 - val_loss: 0.0282 - val_accuracy: 0.9914\n",
            "Epoch 36/40\n",
            "469/469 [==============================] - 2s 5ms/step - loss: 0.0167 - accuracy: 0.9944 - val_loss: 0.0266 - val_accuracy: 0.9921\n",
            "Epoch 37/40\n",
            "469/469 [==============================] - 2s 5ms/step - loss: 0.0166 - accuracy: 0.9944 - val_loss: 0.0268 - val_accuracy: 0.9921\n",
            "Epoch 38/40\n",
            "469/469 [==============================] - 2s 5ms/step - loss: 0.0174 - accuracy: 0.9947 - val_loss: 0.0274 - val_accuracy: 0.9923\n",
            "Epoch 39/40\n",
            "469/469 [==============================] - 2s 5ms/step - loss: 0.0148 - accuracy: 0.9950 - val_loss: 0.0280 - val_accuracy: 0.9916\n",
            "Epoch 40/40\n",
            "469/469 [==============================] - 2s 5ms/step - loss: 0.0153 - accuracy: 0.9949 - val_loss: 0.0269 - val_accuracy: 0.9919\n"
          ],
          "name": "stdout"
        }
      ]
    },
    {
      "cell_type": "code",
      "metadata": {
        "id": "pLs5NGEIIYd9"
      },
      "source": [
        "sns.set()"
      ],
      "execution_count": 8,
      "outputs": []
    },
    {
      "cell_type": "code",
      "metadata": {
        "colab": {
          "base_uri": "https://localhost:8080/",
          "height": 447
        },
        "id": "MLx_v5ESIYbE",
        "outputId": "cf9e08bf-0fbd-4692-bfd5-a728b6ed8b8d"
      },
      "source": [
        "fig = plt.figure(0, (12, 4))\r\n",
        "\r\n",
        "ax = plt.subplot(1, 2, 1)\r\n",
        "sns.lineplot(history.epoch, history.history['accuracy'], label='train')\r\n",
        "sns.lineplot(history.epoch, history.history['val_accuracy'], label='valid')\r\n",
        "plt.title('Accuracy')\r\n",
        "plt.tight_layout()\r\n",
        "\r\n",
        "ax = plt.subplot(1, 2, 2)\r\n",
        "sns.lineplot(history.epoch, history.history['loss'], label='train')\r\n",
        "sns.lineplot(history.epoch, history.history['val_loss'], label='valid')\r\n",
        "plt.title('Loss')\r\n",
        "plt.tight_layout()\r\n",
        "\r\n",
        "plt.show()"
      ],
      "execution_count": 9,
      "outputs": [
        {
          "output_type": "stream",
          "text": [
            "/usr/local/lib/python3.6/dist-packages/seaborn/_decorators.py:43: FutureWarning: Pass the following variables as keyword args: x, y. From version 0.12, the only valid positional argument will be `data`, and passing other arguments without an explicit keyword will result in an error or misinterpretation.\n",
            "  FutureWarning\n",
            "/usr/local/lib/python3.6/dist-packages/seaborn/_decorators.py:43: FutureWarning: Pass the following variables as keyword args: x, y. From version 0.12, the only valid positional argument will be `data`, and passing other arguments without an explicit keyword will result in an error or misinterpretation.\n",
            "  FutureWarning\n",
            "/usr/local/lib/python3.6/dist-packages/seaborn/_decorators.py:43: FutureWarning: Pass the following variables as keyword args: x, y. From version 0.12, the only valid positional argument will be `data`, and passing other arguments without an explicit keyword will result in an error or misinterpretation.\n",
            "  FutureWarning\n",
            "/usr/local/lib/python3.6/dist-packages/seaborn/_decorators.py:43: FutureWarning: Pass the following variables as keyword args: x, y. From version 0.12, the only valid positional argument will be `data`, and passing other arguments without an explicit keyword will result in an error or misinterpretation.\n",
            "  FutureWarning\n"
          ],
          "name": "stderr"
        },
        {
          "output_type": "display_data",
          "data": {
            "image/png": "[encoded data removed]",
            "text/plain": [
              "<Figure size 864x288 with 2 Axes>"
            ]
          },
          "metadata": {
            "tags": []
          }
        }
      ]
    },
    {
      "cell_type": "code",
      "metadata": {
        "id": "71d2_yhZHdo8"
      },
      "source": [
        ""
      ],
      "execution_count": 9,
      "outputs": []
    },
    {
      "cell_type": "code",
      "metadata": {
        "id": "5ifQ3Z3oHPXR"
      },
      "source": [
        ""
      ],
      "execution_count": 9,
      "outputs": []
    }
  ]
}